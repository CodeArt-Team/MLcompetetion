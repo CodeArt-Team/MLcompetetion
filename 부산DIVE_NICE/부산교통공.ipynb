{
 "cells": [
  {
   "cell_type": "code",
   "execution_count": 109,
   "metadata": {},
   "outputs": [],
   "source": [
    "import pandas as pd\n",
    "import warnings\n",
    "warnings.filterwarnings('ignore')\n",
    "# 시각화\n",
    "import matplotlib.pyplot as plt\n",
    "\n",
    "from skimage.transform import resize\n",
    "import pandas as pd\n",
    "import matplotlib.pyplot as plt\n",
    "\n",
    "\n",
    "## 한글 폰트 문제 해결 \n",
    "# matplotlib은 한글 폰트를 지원하지 않음\n",
    "# os정보\n",
    "import platform\n",
    "import matplotlib.pyplot as plt\n",
    "\n",
    "# font_manager : 폰트 관리 모듈\n",
    "# rc : 폰트 변경 모듈\n",
    "from matplotlib import font_manager, rc\n",
    "# unicode 설정\n",
    "plt.rcParams['axes.unicode_minus'] = False\n",
    "\n",
    "if platform.system() == 'Darwin':\n",
    "    rc('font', family='AppleGothic') # os가 macos\n",
    "elif platform.system() == 'Windows':\n",
    "    path = 'c:/Windows/Fonts/malgun.ttf' # os가 windows\n",
    "    font_name = font_manager.FontProperties(fname=path).get_name()\n",
    "    rc('font', family=font_name)\n",
    "else:\n",
    "    print(\"Unknown System\")\n",
    "\n",
    "import seaborn as sns\n"
   ]
  },
  {
   "cell_type": "code",
   "execution_count": 110,
   "metadata": {},
   "outputs": [
    {
     "name": "stdout",
     "output_type": "stream",
     "text": [
      "<class 'pandas.core.frame.DataFrame'>\n",
      "RangeIndex: 384 entries, 0 to 383\n",
      "Data columns (total 7 columns):\n",
      " #   Column   Non-Null Count  Dtype  \n",
      "---  ------   --------------  -----  \n",
      " 0   철도운영기관명  384 non-null    object \n",
      " 1   선명       384 non-null    object \n",
      " 2   역명       381 non-null    object \n",
      " 3   지상구분     384 non-null    object \n",
      " 4   역층       384 non-null    int64  \n",
      " 5   역층구분     384 non-null    object \n",
      " 6   면적       109 non-null    float64\n",
      "dtypes: float64(1), int64(1), object(5)\n",
      "memory usage: 21.1+ KB\n"
     ]
    }
   ],
   "source": [
    "역구조데이터 = pd.read_csv('./Data/국가철도공단_부산지하철_역구조_데이터_20231109.csv', encoding='euc-kr')\n",
    "역구조데이터.info()"
   ]
  },
  {
   "cell_type": "code",
   "execution_count": 111,
   "metadata": {},
   "outputs": [
    {
     "name": "stdout",
     "output_type": "stream",
     "text": [
      "<class 'pandas.core.frame.DataFrame'>\n",
      "RangeIndex: 81760 entries, 0 to 81759\n",
      "Data columns (total 30 columns):\n",
      " #   Column   Non-Null Count  Dtype \n",
      "---  ------   --------------  ----- \n",
      " 0   역번호      81760 non-null  int64 \n",
      " 1   역명       81760 non-null  object\n",
      " 2   년월일      81760 non-null  object\n",
      " 3   요일       81760 non-null  object\n",
      " 4   구분       81760 non-null  object\n",
      " 5   합계       81760 non-null  int64 \n",
      " 6   01시-02시  81760 non-null  int64 \n",
      " 7   02시-03시  81760 non-null  int64 \n",
      " 8   03시-04시  81760 non-null  int64 \n",
      " 9   04시-05시  81760 non-null  int64 \n",
      " 10  05시-06시  81760 non-null  int64 \n",
      " 11  06시-07시  81760 non-null  int64 \n",
      " 12  07시-08시  81760 non-null  int64 \n",
      " 13  08시-09시  81760 non-null  int64 \n",
      " 14  09시-10시  81760 non-null  int64 \n",
      " 15  10시-11시  81760 non-null  int64 \n",
      " 16  11시-12시  81760 non-null  int64 \n",
      " 17  12시-13시  81760 non-null  int64 \n",
      " 18  13시-14시  81760 non-null  int64 \n",
      " 19  14시-15시  81760 non-null  int64 \n",
      " 20  15시-16시  81760 non-null  int64 \n",
      " 21  16시-17시  81760 non-null  int64 \n",
      " 22  17시-18시  81760 non-null  int64 \n",
      " 23  18시-19시  81760 non-null  int64 \n",
      " 24  19시-20시  81760 non-null  int64 \n",
      " 25  20시-21시  81760 non-null  int64 \n",
      " 26  21시-22시  81760 non-null  int64 \n",
      " 27  22시-23시  81760 non-null  int64 \n",
      " 28  23시-24시  81760 non-null  int64 \n",
      " 29  24시-01시  81760 non-null  int64 \n",
      "dtypes: int64(26), object(4)\n",
      "memory usage: 18.7+ MB\n"
     ]
    }
   ],
   "source": [
    "승하차인원2 = pd.read_csv('./Data/DataDictionary/일별 역별 시간대별 승하차(2023년 12월).csv', encoding='euc-kr')\n",
    "승하차인원2.info()"
   ]
  },
  {
   "cell_type": "code",
   "execution_count": 112,
   "metadata": {},
   "outputs": [
    {
     "name": "stdout",
     "output_type": "stream",
     "text": [
      "<class 'pandas.core.frame.DataFrame'>\n",
      "RangeIndex: 24 entries, 0 to 23\n",
      "Data columns (total 6 columns):\n",
      " #   Column       Non-Null Count  Dtype \n",
      "---  ------       --------------  ----- \n",
      " 0   환승방법         24 non-null     object\n",
      " 1   대상           24 non-null     object\n",
      " 2   도시철도 1구간(원)  24 non-null     object\n",
      " 3   타교통수단(원)     24 non-null     object\n",
      " 4   총운임(원)       24 non-null     object\n",
      " 5   비고           12 non-null     object\n",
      "dtypes: object(6)\n",
      "memory usage: 1.3+ KB\n"
     ]
    }
   ],
   "source": [
    "환승정보 = pd.read_csv('./Data/부산도시철도 부산시내 환승정보(2024).csv', encoding='euc-kr')\n",
    "환승정보.info()"
   ]
  },
  {
   "cell_type": "code",
   "execution_count": 113,
   "metadata": {},
   "outputs": [
    {
     "name": "stdout",
     "output_type": "stream",
     "text": [
      "<class 'pandas.core.frame.DataFrame'>\n",
      "RangeIndex: 13 entries, 0 to 12\n",
      "Data columns (total 5 columns):\n",
      " #   Column  Non-Null Count  Dtype \n",
      "---  ------  --------------  ----- \n",
      " 0   승차권종별   13 non-null     object\n",
      " 1   대상      13 non-null     object\n",
      " 2   1구간     13 non-null     object\n",
      " 3   2구간     10 non-null     object\n",
      " 4   비고      2 non-null      object\n",
      "dtypes: object(5)\n",
      "memory usage: 652.0+ bytes\n"
     ]
    }
   ],
   "source": [
    "운임정보 = pd.read_csv('./Data/부산도시철도 운임정보(2024).csv', encoding='euc-kr')\n",
    "운임정보.info()"
   ]
  },
  {
   "cell_type": "code",
   "execution_count": 114,
   "metadata": {},
   "outputs": [
    {
     "name": "stdout",
     "output_type": "stream",
     "text": [
      "<class 'pandas.core.frame.DataFrame'>\n",
      "RangeIndex: 48 entries, 0 to 47\n",
      "Data columns (total 6 columns):\n",
      " #   Column      Non-Null Count  Dtype  \n",
      "---  ------      --------------  -----  \n",
      " 0   월별          48 non-null     int64  \n",
      " 1   호선별         48 non-null     object \n",
      " 2   계획(횟수)      48 non-null     int64  \n",
      " 3   실적(횟수)      48 non-null     int64  \n",
      " 4   계획(운행거리Km)  48 non-null     float64\n",
      " 5   실적(운행거리Km)  48 non-null     float64\n",
      "dtypes: float64(2), int64(3), object(1)\n",
      "memory usage: 2.4+ KB\n"
     ]
    }
   ],
   "source": [
    "열차운행실적 = pd.read_csv('./Data/부산교통공사_열차운행실적_20231231.csv', encoding='euc-kr')\n",
    "열차운행실적.info()"
   ]
  },
  {
   "cell_type": "code",
   "execution_count": 115,
   "metadata": {},
   "outputs": [
    {
     "data": {
      "text/plain": [
       "count    81760.000000\n",
       "mean       217.696429\n",
       "std         96.589635\n",
       "min         95.000000\n",
       "25%        122.750000\n",
       "50%        216.500000\n",
       "75%        302.250000\n",
       "max        414.000000\n",
       "Name: 역번호, dtype: float64"
      ]
     },
     "execution_count": 115,
     "metadata": {},
     "output_type": "execute_result"
    }
   ],
   "source": [
    "승하차인원2['역번호'].describe()"
   ]
  },
  {
   "cell_type": "code",
   "execution_count": 123,
   "metadata": {},
   "outputs": [
    {
     "name": "stdout",
     "output_type": "stream",
     "text": [
      "   역번호       역명         년월일 요일  구분    합계  01시-02시  02시-03시  03시-04시  04시-05시  \\\n",
      "0   95  다대포해수욕장  2023-01-01  일  승차  6311        0        0        0        9   \n",
      "1   95  다대포해수욕장  2023-01-01  일  하차  5839        2        0        0        0   \n",
      "2   95  다대포해수욕장  2023-01-02  월  승차  4264        0        0        0       18   \n",
      "3   95  다대포해수욕장  2023-01-02  월  하차  3300        0        0        0        0   \n",
      "4   95  다대포해수욕장  2023-01-03  화  승차  4431        1        1        0       27   \n",
      "\n",
      "   ...  16시-17시  17시-18시  18시-19시  19시-20시  20시-21시  21시-22시  22시-23시  \\\n",
      "0  ...      398      336      272      130      138       71       66   \n",
      "1  ...      299      269      126      128       94      115       71   \n",
      "2  ...      262      243      224      133       87       79       62   \n",
      "3  ...      262      260      285      216      153      103      105   \n",
      "4  ...      310      310      229      132      110       71       65   \n",
      "\n",
      "   23시-24시  24시-01시       호선  \n",
      "0        7        3  Unknown  \n",
      "1       43       29  Unknown  \n",
      "2        8        0  Unknown  \n",
      "3       57       29  Unknown  \n",
      "4       21        0  Unknown  \n",
      "\n",
      "[5 rows x 31 columns]\n"
     ]
    }
   ],
   "source": [
    "import pandas as pd\n",
    "\n",
    "# 승하차인원 데이터프레임 예시\n",
    "승하차인원 = {\n",
    "    \"subway\": pd.read_csv('./Data/DataDictionary/일별 역별 시간대별 승하차(2023년 12월).csv', encoding='euc-kr')\n",
    "}\n",
    "\n",
    "\n",
    "subway_df = 승하차인원['subway']\n",
    "\n",
    "# 호선 번호를 반환하는 함수 정의\n",
    "def get_line_number(station_number):\n",
    "    if 400 <= station_number <= 499:\n",
    "        return 4  # 4호선\n",
    "    elif 300 <= station_number <= 399:\n",
    "        return 3  # 3호선\n",
    "    elif 200 <= station_number <= 299:\n",
    "        return 2  # 2호선\n",
    "    elif 100 <= station_number <= 199:\n",
    "        return 1  # 1호선\n",
    "    else:\n",
    "        return \"Unknown\"  # 알 수 없는 역번호 처리\n",
    "\n",
    "# 역번호에 따라 호선 컬럼 추가\n",
    "subway_df['호선'] = subway_df['역번호'].apply(get_line_number)\n",
    "\n",
    "# 결과 확인\n",
    "print(subway_df.head())\n"
   ]
  },
  {
   "cell_type": "code",
   "execution_count": 117,
   "metadata": {},
   "outputs": [],
   "source": [
    "승하차인원 = {\n",
    "    \"subway\" : pd.read_csv('./Data/DataDictionary/일별 역별 시간대별 승하차(2023년 12월).csv', encoding='euc-kr')\n",
    "}\n"
   ]
  },
  {
   "cell_type": "code",
   "execution_count": 118,
   "metadata": {},
   "outputs": [
    {
     "data": {
      "text/plain": [
       "0         95\n",
       "1         95\n",
       "2         95\n",
       "3         95\n",
       "4         95\n",
       "        ... \n",
       "81755    414\n",
       "81756    414\n",
       "81757    414\n",
       "81758    414\n",
       "81759    414\n",
       "Name: 역번호, Length: 81760, dtype: int64"
      ]
     },
     "execution_count": 118,
     "metadata": {},
     "output_type": "execute_result"
    }
   ],
   "source": [
    "승하차인원['subway']['역번호']"
   ]
  },
  {
   "cell_type": "code",
   "execution_count": 119,
   "metadata": {},
   "outputs": [
    {
     "name": "stdout",
     "output_type": "stream",
     "text": [
      "Index(['역번호', '역명', '년월일', '요일', '구분', '합계', '01시-02시', '02시-03시', '03시-04시',\n",
      "       '04시-05시', '05시-06시', '06시-07시', '07시-08시', '08시-09시', '09시-10시',\n",
      "       '10시-11시', '11시-12시', '12시-13시', '13시-14시', '14시-15시', '15시-16시',\n",
      "       '16시-17시', '17시-18시', '18시-19시', '19시-20시', '20시-21시', '21시-22시',\n",
      "       '22시-23시', '23시-24시', '24시-01시'],\n",
      "      dtype='object')\n",
      "   역번호       역명         년월일 요일  구분    합계  01시-02시  02시-03시  03시-04시  04시-05시  \\\n",
      "0   95  다대포해수욕장  2023-01-01  일  승차  6311        0        0        0        9   \n",
      "1   95  다대포해수욕장  2023-01-01  일  하차  5839        2        0        0        0   \n",
      "2   95  다대포해수욕장  2023-01-02  월  승차  4264        0        0        0       18   \n",
      "3   95  다대포해수욕장  2023-01-02  월  하차  3300        0        0        0        0   \n",
      "4   95  다대포해수욕장  2023-01-03  화  승차  4431        1        1        0       27   \n",
      "\n",
      "   ...  16시-17시  17시-18시  18시-19시  19시-20시  20시-21시  21시-22시  22시-23시  \\\n",
      "0  ...      398      336      272      130      138       71       66   \n",
      "1  ...      299      269      126      128       94      115       71   \n",
      "2  ...      262      243      224      133       87       79       62   \n",
      "3  ...      262      260      285      216      153      103      105   \n",
      "4  ...      310      310      229      132      110       71       65   \n",
      "\n",
      "   23시-24시  24시-01시       호선  \n",
      "0        7        3  Unknown  \n",
      "1       43       29  Unknown  \n",
      "2        8        0  Unknown  \n",
      "3       57       29  Unknown  \n",
      "4       21        0  Unknown  \n",
      "\n",
      "[5 rows x 31 columns]\n"
     ]
    }
   ],
   "source": [
    "# 호선 번호를 결정하는 함수\n",
    "def get_line_number(station_number):\n",
    "    if 100 <= station_number <= 199:\n",
    "        return 1  # 1호선\n",
    "    elif 200 <= station_number <= 299:\n",
    "        return 2  # 2호선\n",
    "    elif 300 <= station_number <= 399:\n",
    "        return 3  # 3호선\n",
    "    elif 400 <= station_number <= 499:\n",
    "        return 4  # 4호선\n",
    "    else:\n",
    "        return \"Unknown\"  # 알 수 없는 호선\n",
    "    \n",
    "subway_df = 승하차인원['subway']\n",
    "print(subway_df.columns)\n",
    "subway_df['호선'] = subway_df['역번호'].apply(get_line_number)\n",
    "\n",
    "print(subway_df.head())"
   ]
  },
  {
   "cell_type": "code",
   "execution_count": 120,
   "metadata": {},
   "outputs": [],
   "source": [
    "import numpy as np\n",
    "np.save(\"./Data/DataDictionary/subway.npy\",승하차인원) ## .8Mb"
   ]
  },
  {
   "cell_type": "code",
   "execution_count": 121,
   "metadata": {},
   "outputs": [
    {
     "name": "stdout",
     "output_type": "stream",
     "text": [
      "subway.npy =>18 MB\n"
     ]
    }
   ],
   "source": [
    "# npy File 용량확인 \n",
    "import os\n",
    "dictionary_path='./Data/DataDictionary/'\n",
    "for i in os.listdir(dictionary_path):\n",
    "    if i.split(\".\")[-1]=='npy':\n",
    "        size = os.path.getsize(os.path.join(dictionary_path,i))\n",
    "        print(f\"{i} =>{int(size/1000000)} MB\")"
   ]
  },
  {
   "cell_type": "code",
   "execution_count": 122,
   "metadata": {},
   "outputs": [
    {
     "name": "stdout",
     "output_type": "stream",
     "text": [
      "\u001b[1m\u001b[92m___ 🟡 DATA_PREPROCESSING_TOANALYSIS. \u001b[0m\n",
      "\u001b[93m______ 📌 데이터 통합 정제 함수!!!\u001b[0m\n",
      "\u001b[92mcolumns ---👇\u001b[0m\n",
      "['역번호', '역명', '년월일', '요일', '구분', '합계', '01시-02시', '02시-03시', '03시-04시', '04시-05시', '05시-06시', '06시-07시', '07시-08시', '08시-09시', '09시-10시', '10시-11시', '11시-12시', '12시-13시', '13시-14시', '14시-15시', '15시-16시', '16시-17시', '17시-18시', '18시-19시', '19시-20시', '20시-21시', '21시-22시', '22시-23시', '23시-24시', '24시-01시', '호선']\n",
      " 2.\"역명\" ->\"역이름\", \"역번호\"->\"역사코드 \".\n",
      " 3. 호선 데이터가 object 입니다. \n",
      "   - Unknown\n",
      "   - 1\n",
      "   - 2\n",
      " ..\n"
     ]
    },
    {
     "ename": "ValueError",
     "evalue": "invalid literal for int() with base 10: 'Unknown'",
     "output_type": "error",
     "traceback": [
      "\u001b[0;31m---------------------------------------------------------------------------\u001b[0m",
      "\u001b[0;31mValueError\u001b[0m                                Traceback (most recent call last)",
      "Cell \u001b[0;32mIn[122], line 16\u001b[0m\n\u001b[1;32m      4\u001b[0m subway \u001b[38;5;241m=\u001b[39mnp\u001b[38;5;241m.\u001b[39mload(\u001b[38;5;124m\"\u001b[39m\u001b[38;5;124m./Data/DataDictionary/subway.npy\u001b[39m\u001b[38;5;124m\"\u001b[39m,allow_pickle\u001b[38;5;241m=\u001b[39m\u001b[38;5;28;01mTrue\u001b[39;00m)\u001b[38;5;241m.\u001b[39mtolist()\n\u001b[1;32m      6\u001b[0m \u001b[38;5;66;03m# for item in subway :\u001b[39;00m\n\u001b[1;32m      7\u001b[0m \u001b[38;5;66;03m#     if isinstance(item, dict) :\u001b[39;00m\n\u001b[1;32m      8\u001b[0m \u001b[38;5;66;03m#         for key in item.keys():\u001b[39;00m\n\u001b[0;32m   (...)\u001b[0m\n\u001b[1;32m     14\u001b[0m \n\u001b[1;32m     15\u001b[0m \u001b[38;5;66;03m# # subway_dict_test20to21.keys()\u001b[39;00m\n\u001b[0;32m---> 16\u001b[0m \u001b[38;5;28;01mfor\u001b[39;00m key \u001b[38;5;129;01min\u001b[39;00m subway\u001b[38;5;241m.\u001b[39mkeys():Service\u001b[38;5;241m.\u001b[39mdata_preprocessing_toAnalysis(subway,key)\n",
      "File \u001b[0;32m~/Documents/contest/BerryMLcompetetion/부산DIVE_NICE/Functions.py:422\u001b[0m, in \u001b[0;36mService.data_preprocessing_toAnalysis\u001b[0;34m(data_dict, key_data)\u001b[0m\n\u001b[1;32m    420\u001b[0m         \u001b[38;5;28mprint\u001b[39m(\u001b[38;5;124m\"\u001b[39m\u001b[38;5;124m ..\u001b[39m\u001b[38;5;124m\"\u001b[39m)\n\u001b[1;32m    421\u001b[0m         \u001b[38;5;28;01mbreak\u001b[39;00m\n\u001b[0;32m--> 422\u001b[0m line_int\u001b[38;5;241m=\u001b[39m[\u001b[38;5;28mint\u001b[39m(linename\u001b[38;5;241m.\u001b[39msplit(\u001b[38;5;124m\"\u001b[39m\u001b[38;5;124m호선\u001b[39m\u001b[38;5;124m\"\u001b[39m)[\u001b[38;5;241m0\u001b[39m]) \u001b[38;5;28;01mfor\u001b[39;00m linename \u001b[38;5;129;01min\u001b[39;00m test[\u001b[38;5;124m'\u001b[39m\u001b[38;5;124m호선\u001b[39m\u001b[38;5;124m'\u001b[39m]]\n\u001b[1;32m    423\u001b[0m \u001b[38;5;28mprint\u001b[39m(\u001b[38;5;124m\"\u001b[39m\u001b[38;5;124m 😀호선을 integer 로 만듭니다.\u001b[39m\u001b[38;5;124m\"\u001b[39m)\n\u001b[1;32m    424\u001b[0m \u001b[38;5;28mprint\u001b[39m(\u001b[38;5;124m\"\u001b[39m\u001b[38;5;124m 3-1. 호선 을 제거한 이름 unique : \u001b[39m\u001b[38;5;124m\"\u001b[39m,\u001b[38;5;241m*\u001b[39mnp\u001b[38;5;241m.\u001b[39munique(line_int),sep\u001b[38;5;241m=\u001b[39m\u001b[38;5;124m\"\u001b[39m\u001b[38;5;124m, \u001b[39m\u001b[38;5;124m\"\u001b[39m)\n",
      "File \u001b[0;32m~/Documents/contest/BerryMLcompetetion/부산DIVE_NICE/Functions.py:422\u001b[0m, in \u001b[0;36m<listcomp>\u001b[0;34m(.0)\u001b[0m\n\u001b[1;32m    420\u001b[0m         \u001b[38;5;28mprint\u001b[39m(\u001b[38;5;124m\"\u001b[39m\u001b[38;5;124m ..\u001b[39m\u001b[38;5;124m\"\u001b[39m)\n\u001b[1;32m    421\u001b[0m         \u001b[38;5;28;01mbreak\u001b[39;00m\n\u001b[0;32m--> 422\u001b[0m line_int\u001b[38;5;241m=\u001b[39m[\u001b[38;5;28mint\u001b[39m(linename\u001b[38;5;241m.\u001b[39msplit(\u001b[38;5;124m\"\u001b[39m\u001b[38;5;124m호선\u001b[39m\u001b[38;5;124m\"\u001b[39m)[\u001b[38;5;241m0\u001b[39m]) \u001b[38;5;28;01mfor\u001b[39;00m linename \u001b[38;5;129;01min\u001b[39;00m test[\u001b[38;5;124m'\u001b[39m\u001b[38;5;124m호선\u001b[39m\u001b[38;5;124m'\u001b[39m]]\n\u001b[1;32m    423\u001b[0m \u001b[38;5;28mprint\u001b[39m(\u001b[38;5;124m\"\u001b[39m\u001b[38;5;124m 😀호선을 integer 로 만듭니다.\u001b[39m\u001b[38;5;124m\"\u001b[39m)\n\u001b[1;32m    424\u001b[0m \u001b[38;5;28mprint\u001b[39m(\u001b[38;5;124m\"\u001b[39m\u001b[38;5;124m 3-1. 호선 을 제거한 이름 unique : \u001b[39m\u001b[38;5;124m\"\u001b[39m,\u001b[38;5;241m*\u001b[39mnp\u001b[38;5;241m.\u001b[39munique(line_int),sep\u001b[38;5;241m=\u001b[39m\u001b[38;5;124m\"\u001b[39m\u001b[38;5;124m, \u001b[39m\u001b[38;5;124m\"\u001b[39m)\n",
      "\u001b[0;31mValueError\u001b[0m: invalid literal for int() with base 10: 'Unknown'"
     ]
    }
   ],
   "source": [
    "\n",
    "# 데이터 정제 시작 \n",
    "from Functions import *\n",
    "\n",
    "subway =np.load(\"./Data/DataDictionary/subway.npy\",allow_pickle=True).tolist()\n",
    "\n",
    "# for item in subway :\n",
    "#     if isinstance(item, dict) :\n",
    "#         for key in item.keys():\n",
    "#             Service.data_preprocessing_toAnalysis(item, key)\n",
    "#     else :\n",
    "#         print(\"리스트의 요소가 dict가 아닙니다:\", item)\n",
    "\n",
    "\n",
    "\n",
    "# # subway_dict_test20to21.keys()\n",
    "for key in subway.keys():Service.data_preprocessing_toAnalysis(subway,key)\n",
    "    "
   ]
  },
  {
   "cell_type": "code",
   "execution_count": null,
   "metadata": {},
   "outputs": [
    {
     "data": {
      "text/plain": [
       "array([ 95,  96,  97,  98,  99, 100, 101, 102, 103, 104, 105, 106, 107,\n",
       "       108, 109, 110, 111, 112, 113, 114, 115, 116, 117, 118, 119, 120,\n",
       "       121, 122, 123, 124, 125, 126, 127, 128, 129, 130, 131, 132, 133,\n",
       "       134, 201, 202, 203, 204, 205, 206, 207, 208, 209, 210, 211, 212,\n",
       "       213, 214, 215, 216, 217, 218, 219, 220, 221, 222, 223, 224, 225,\n",
       "       226, 227, 228, 229, 230, 231, 232, 233, 234, 235, 236, 237, 238,\n",
       "       239, 240, 241, 242, 243, 302, 303, 304, 305, 306, 307, 308, 309,\n",
       "       310, 311, 312, 313, 314, 315, 316, 317, 402, 403, 404, 405, 406,\n",
       "       407, 408, 409, 410, 411, 412, 413, 414])"
      ]
     },
     "execution_count": 62,
     "metadata": {},
     "output_type": "execute_result"
    }
   ],
   "source": [
    "승하차인원2['역번호'].unique()"
   ]
  },
  {
   "cell_type": "code",
   "execution_count": null,
   "metadata": {},
   "outputs": [],
   "source": []
  }
 ],
 "metadata": {
  "kernelspec": {
   "display_name": "base",
   "language": "python",
   "name": "python3"
  },
  "language_info": {
   "codemirror_mode": {
    "name": "ipython",
    "version": 3
   },
   "file_extension": ".py",
   "mimetype": "text/x-python",
   "name": "python",
   "nbconvert_exporter": "python",
   "pygments_lexer": "ipython3",
   "version": "3.11.7"
  }
 },
 "nbformat": 4,
 "nbformat_minor": 2
}
